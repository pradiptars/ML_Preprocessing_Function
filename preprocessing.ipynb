{
  "nbformat": 4,
  "nbformat_minor": 0,
  "metadata": {
    "colab": {
      "provenance": [],
      "authorship_tag": "ABX9TyO9k9022EU/bptSc4NnshUv",
      "include_colab_link": true
    },
    "kernelspec": {
      "name": "python3",
      "display_name": "Python 3"
    },
    "language_info": {
      "name": "python"
    }
  },
  "cells": [
    {
      "cell_type": "markdown",
      "metadata": {
        "id": "view-in-github",
        "colab_type": "text"
      },
      "source": [
        "<a href=\"https://colab.research.google.com/github/pradiptars/ML_Preprocessing_Function/blob/main/preprocessing.ipynb\" target=\"_parent\"><img src=\"https://colab.research.google.com/assets/colab-badge.svg\" alt=\"Open In Colab\"/></a>"
      ]
    },
    {
      "cell_type": "code",
      "source": [
        "def split_cabin(x):\n",
        "   if len(str(x).split('/')) < 3:\n",
        "    return ['Missing', 'Missing', 'Missing']\n",
        "   else:\n",
        "    return str(x).split('/')"
      ],
      "metadata": {
        "id": "CO5acFTJy_6v"
      },
      "execution_count": null,
      "outputs": []
    },
    {
      "cell_type": "code",
      "source": [
        "df['TempCabin'] = df['Cabin'].apply(lambda x : split_cabin(x))"
      ],
      "metadata": {
        "id": "W9n6hTH_y_QX"
      },
      "execution_count": null,
      "outputs": []
    },
    {
      "cell_type": "code",
      "execution_count": null,
      "metadata": {
        "id": "mtx-mArfy5Ll"
      },
      "outputs": [],
      "source": [
        "def preprocessing(df):\n",
        "  #preporcessing homeplanet\n",
        "  df['HomePlanet'] = df['HomePlanet'].fillna('Missing')\n",
        "  # cabin prepocesing extract Deck and side\n",
        "  df['TempCabin'] = df['Cabin'].apply(lambda x : split_cabin(x))\n",
        "  df['Deck'] = df['TempCabin'].apply(lambda x : x[0])\n",
        "  df['Side'] = df['TempCabin'].apply(lambda x : x[2])\n",
        "  df.drop('TempCabin', axis=1)\n",
        "\n",
        "  df['Deck'] = df['Deck'].fillna('Missing')\n",
        "  df['Side'] = df['Side'].fillna('Missing')\n",
        "  # age\n",
        "  df['Age'] = df['Age'].fillna(df['Age'].mean())\n",
        "  # preporcessing VIP\n",
        "  df['VIP'] = df['VIP'].fillna(False)\n",
        "  #preporcessing CryoSleep\n",
        "  df['CryoSleep'] = df['CryoSleep'].fillna(False)\n",
        "  #preporcessing Destination\n",
        "  df['Destination'] = df['Destination'].fillna('Missing')\n",
        "  # preprocessing numatic columns\n",
        "  df['RoomService'] = df['RoomService'].fillna(0)\n",
        "  df['FoodCourt'] = df['FoodCourt'].fillna(0)\n",
        "  df['ShoppingMall'] = df['ShoppingMall'].fillna(0)\n",
        "  df['Spa'] = df['Spa'].fillna(0)\n",
        "  df['VRDeck'] = df['VRDeck'].fillna(0)\n",
        "  # drop\n",
        "  df.drop('Name', axis=1, inplace=True)\n",
        "  # drop missing rows\n",
        "  df.dropna(inplace=True)\n",
        "  return df"
      ]
    }
  ]
}